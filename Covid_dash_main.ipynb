{
 "cells": [
  {
   "cell_type": "code",
   "execution_count": null,
   "metadata": {},
   "outputs": [],
   "source": [
    "import geopandas as gpd\n",
    "import pandas as pd\n",
    "import json\n",
    "import plotly.express as px\n",
    "import zipfile\n",
    "from urllib import request\n",
    "import numpy as np\n"
   ]
  },
  {
   "cell_type": "code",
   "execution_count": null,
   "metadata": {},
   "outputs": [],
   "source": [
    "response = request.urlopen('https://services1.arcgis.com/Nifc7wlHaBPig3Q3/arcgis/rest/services/COVID_PA_Counties/FeatureServer/0/query?f=json&where=1%3D1&returnGeometry=false&spatialRel=esriSpatialRelIntersects&outFields=*&resultOffset=0&resultRecordCount=68&resultType=standard&cacheHint=true')\n",
    "dat = response.read()\n",
    "data = json.loads(dat)\n",
    "df = pd.json_normalize(data['features'])\n",
    "df.columns=df.columns.str.replace(\"attributes.\",'',regex=False).str.lower()\n",
    "df=df[['county','cases_per_100000']][df.cases_per_100000.notna()]\n",
    "df['county']=df.county.str.title()\n",
    "map1=gpd.read_file(\"https://data.pa.gov/api/geospatial/2axz-wupj?method=export&format=GeoJSON\")\n",
    "map1['county']=map1.county_nam.str.title()\n",
    "map1=map1[['county','geometry']]\n",
    "map1.to_file(\"map1.geojson\",driver='GeoJSON')\n",
    "with open (\"map1.geojson\",'r') as infile:\n",
    "    counties = json.load(infile)\n",
    "fig = px.choropleth_mapbox(df,geojson=counties,\n",
    "                          locations='county',featureidkey='properties.county',\n",
    "                          color='cases_per_100000',\n",
    "                          hover_name='county',\n",
    "                          range_color=(df.cases_per_100000.describe()[1]-df.cases_per_100000.describe()[2],df.cases_per_100000.describe()[1]+df.cases_per_100000.describe()[2]),\n",
    "                          mapbox_style='carto-positron',\n",
    "                          color_continuous_scale='viridis',\n",
    "                          zoom=6.3,center = {\"lat\": 40.9998307, \"lon\": -77.6162591},\n",
    "                          opacity=0.5)\n",
    "fig.show()\n",
    "#df.to_csv(\"county_covid_19_\"+str(today.month)+\"_\"+str(today.day)+\".csv\",index=None)"
   ]
  },
  {
   "cell_type": "code",
   "execution_count": null,
   "metadata": {},
   "outputs": [],
   "source": [
    "response = request.urlopen(\"https://services1.arcgis.com/Nifc7wlHaBPig3Q3/arcgis/rest/services/Covid_Cases_County/FeatureServer/0/query?f=json&where=county%3D%27Bucks%27&returnGeometry=false&spatialRel=esriSpatialRelIntersects&outFields=ObjectId%2Ccases%2Cdate&orderByFields=date%20asc&resultOffset=0&resultRecordCount=32000&resultType=standard&cacheHint=true\")\n",
    "dat = response.read()\n",
    "data = json.loads(dat)\n",
    "bucks_cases = pd.json_normalize(data['features'])\n",
    "bucks_cases.columns=bucks_cases.columns.str.replace(\"attributes.\",'',regex=False).str.lower()\n",
    "bucks_cases['date']=pd.to_datetime(bucks_cases['date'],unit=\"ms\",origin='unix')\n",
    "bucks_cases['date']=bucks_cases.date.dt.date\n",
    "bucks_cases['case_diff_av7d']=(bucks_cases.cases.rolling(window=7).mean().round(0))\n",
    "bucks_cases['county']='Bucks'\n",
    "response = request.urlopen(\"https://services1.arcgis.com/Nifc7wlHaBPig3Q3/arcgis/rest/services/Covid_Cases_County/FeatureServer/0/query?f=json&where=county%3D%27Montgomery%27&returnGeometry=false&spatialRel=esriSpatialRelIntersects&outFields=ObjectId%2Ccases%2Cdate&orderByFields=date%20asc&resultOffset=0&resultRecordCount=32000&resultType=standard&cacheHint=true\")\n",
    "dat = response.read()\n",
    "data = json.loads(dat)\n",
    "#today=pd.to_datetime(date.today())\n",
    "montgomery_cases = pd.json_normalize(data['features'])\n",
    "montgomery_cases.columns=montgomery_cases.columns.str.replace(\"attributes.\",'',regex=False).str.lower()\n",
    "montgomery_cases['date']=pd.to_datetime(montgomery_cases['date'],unit=\"ms\",origin='unix')\n",
    "montgomery_cases['date']=montgomery_cases.date.dt.date\n",
    "montgomery_cases['case_diff_av7d']=(montgomery_cases.cases.rolling(window=7).mean().round(0))\n",
    "montgomery_cases['county']='Montgomery'\n",
    "response = request.urlopen(\"https://services1.arcgis.com/Nifc7wlHaBPig3Q3/arcgis/rest/services/Covid_Cases_County/FeatureServer/0/query?f=json&where=county%3D%27Allegheny%27&returnGeometry=false&spatialRel=esriSpatialRelIntersects&outFields=ObjectId%2Ccases%2Cdate&orderByFields=date%20asc&resultOffset=0&resultRecordCount=32000&resultType=standard&cacheHint=true\")\n",
    "dat = response.read()\n",
    "data = json.loads(dat)\n",
    "df1=pd.concat([bucks_cases,montgomery_cases,])\n",
    "px.line(df1.replace(np.nan,0),y=\"case_diff_av7d\",x='date',color='county',title='7-Day Average new cases in Bucks and Montgomery counties')"
   ]
  },
  {
   "cell_type": "code",
   "execution_count": null,
   "metadata": {},
   "outputs": [],
   "source": []
  }
 ],
 "metadata": {
  "kernelspec": {
   "display_name": "Python 3",
   "language": "python",
   "name": "python3"
  },
  "language_info": {
   "codemirror_mode": {
    "name": "ipython",
    "version": 3
   },
   "file_extension": ".py",
   "mimetype": "text/x-python",
   "name": "python",
   "nbconvert_exporter": "python",
   "pygments_lexer": "ipython3",
   "version": "3.8.5"
  }
 },
 "nbformat": 4,
 "nbformat_minor": 4
}
