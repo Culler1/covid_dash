{
 "cells": [
  {
   "cell_type": "code",
   "execution_count": null,
   "metadata": {},
   "outputs": [],
   "source": [
    "import geopandas as gpd\n",
    "import pandas as pd\n",
    "import json\n",
    "import plotly.express as px\n",
    "import zipfile\n",
    "from urllib import request\n",
    "import numpy as np\n",
    "import datetime as DT"
   ]
  },
  {
   "cell_type": "code",
   "execution_count": null,
   "metadata": {},
   "outputs": [],
   "source": [
    "response = request.urlopen('https://services1.arcgis.com/Nifc7wlHaBPig3Q3/arcgis/rest/services/COVID_PA_Counties/FeatureServer/0/query?f=json&where=1%3D1&returnGeometry=false&spatialRel=esriSpatialRelIntersects&outFields=*&resultOffset=0&resultRecordCount=68&resultType=standard&cacheHint=true')\n",
    "dat = response.read()\n",
    "data = json.loads(dat)\n",
    "df = pd.json_normalize(data['features'])\n",
    "df.columns=df.columns.str.replace(\"attributes.\",'',regex=False).str.lower()\n",
    "df=df[['county','cases_per_100000']][df.cases_per_100000.notna()]\n",
    "df['county']=df.county.str.title()\n",
    "map1=gpd.read_file(\"https://data.pa.gov/api/geospatial/2axz-wupj?method=export&format=GeoJSON\")\n",
    "map1['county']=map1.county_nam.str.title()\n",
    "map1=map1[['county','geometry']]\n",
    "map1.to_file(\"map1.geojson\",driver='GeoJSON')\n",
    "with open (\"map1.geojson\",'r') as infile:\n",
    "    counties = json.load(infile)\n",
    "fig = px.choropleth_mapbox(df,geojson=counties,\n",
    "                          locations='county',featureidkey='properties.county',\n",
    "                          color='cases_per_100000',\n",
    "                          hover_name='county',\n",
    "                          range_color=(df.cases_per_100000.describe()[1]-df.cases_per_100000.describe()[2],df.cases_per_100000.describe()[1]+df.cases_per_100000.describe()[2]),\n",
    "                          mapbox_style='carto-positron',\n",
    "                          color_continuous_scale='viridis',\n",
    "                          zoom=6.0,center = {\"lat\": 40.9998307, \"lon\": -77.6162591},\n",
    "                          opacity=0.5,title='Total Cases Per 100,000 people by county')\n",
    "fig.show()\n",
    "#df.to_csv(\"county_covid_19_\"+str(today.month)+\"_\"+str(today.day)+\".csv\",index=None)"
   ]
  },
  {
   "cell_type": "code",
   "execution_count": null,
   "metadata": {},
   "outputs": [],
   "source": [
    "url='https://services1.arcgis.com/Nifc7wlHaBPig3Q3/arcgis/rest/services/Covid_Cases_County/FeatureServer/0/query?f=json&where=1%3D1&returnGeometry=false&spatialRel=esriSpatialRelIntersects&outFields=*&resultOffset=0&resultRecordCount=50000&resultType=standard&cacheHint=true'\n",
    "response = request.urlopen(url)\n",
    "dat = response.read()\n",
    "data = json.loads(dat)\n",
    "df = pd.json_normalize(data['features'])\n",
    "df.columns=df.columns.str.replace(\"attributes.\",'',regex=False).str.lower()\n",
    "df['date']=pd.to_datetime(df['date'],unit=\"ms\",origin='unix')\n",
    "df=df[df.date==df.date.max()]\n",
    "df['county']=df.county.str.title()\n",
    "df=df[['county','cases_avg_new_rate']][df.cases_avg_new_rate.notna()]\n",
    "map1=gpd.read_file(\"https://data.pa.gov/api/geospatial/2axz-wupj?method=export&format=GeoJSON\")\n",
    "map1['county']=map1.county_nam.str.title()\n",
    "map1=map1[['county','geometry']]\n",
    "map1.to_file(\"map1.geojson\",driver='GeoJSON')\n",
    "with open (\"map1.geojson\",'r') as infile:\n",
    "    counties = json.load(infile)\n",
    "fig = px.choropleth_mapbox(df,geojson=counties,\n",
    "                          locations='county',featureidkey='properties.county',\n",
    "                          color='cases_avg_new_rate',\n",
    "                          hover_name='county',\n",
    "                          range_color=(df.cases_avg_new_rate.describe()[1]-df.cases_avg_new_rate.describe()[2],df.cases_avg_new_rate.describe()[1]+df.cases_avg_new_rate.describe()[2]),\n",
    "                          mapbox_style='carto-positron',\n",
    "                          color_continuous_scale='viridis',\n",
    "                          zoom=6.0,center = {\"lat\": 40.9998307, \"lon\": -77.6162591},\n",
    "                          opacity=0.5,title=\"7-day average new cases per 100,000 people by county\")\n",
    "fig.show()"
   ]
  }
 ],
 "metadata": {
  "kernelspec": {
   "display_name": "Python 3",
   "language": "python",
   "name": "python3"
  },
  "language_info": {
   "codemirror_mode": {
    "name": "ipython",
    "version": 3
   },
   "file_extension": ".py",
   "mimetype": "text/x-python",
   "name": "python",
   "nbconvert_exporter": "python",
   "pygments_lexer": "ipython3",
   "version": "3.8.5"
  }
 },
 "nbformat": 4,
 "nbformat_minor": 4
}
